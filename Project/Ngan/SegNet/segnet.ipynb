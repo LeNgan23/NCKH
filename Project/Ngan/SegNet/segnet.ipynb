{
 "cells": [
  {
   "cell_type": "markdown",
   "id": "98479daa",
   "metadata": {
    "papermill": {
     "duration": 0.004083,
     "end_time": "2025-03-19T09:43:21.004858",
     "exception": false,
     "start_time": "2025-03-19T09:43:21.000775",
     "status": "completed"
    },
    "tags": []
   },
   "source": [
    "# **Import lib**"
   ]
  },
  {
   "cell_type": "code",
   "execution_count": 1,
   "id": "96898ad1",
   "metadata": {
    "execution": {
     "iopub.execute_input": "2025-03-19T09:43:21.012787Z",
     "iopub.status.busy": "2025-03-19T09:43:21.012507Z",
     "iopub.status.idle": "2025-03-19T09:43:34.621757Z",
     "shell.execute_reply": "2025-03-19T09:43:34.621010Z"
    },
    "papermill": {
     "duration": 13.614822,
     "end_time": "2025-03-19T09:43:34.623339",
     "exception": false,
     "start_time": "2025-03-19T09:43:21.008517",
     "status": "completed"
    },
    "tags": []
   },
   "outputs": [],
   "source": [
    "from keras import models\n",
    "from keras.layers import Conv2D, BatchNormalization, Activation, MaxPooling2D, UpSampling2D, Reshape, Permute, Dropout, Flatten, Dense\n",
    "from keras.optimizers import Adam\n",
    "import os, numpy as np, matplotlib.pyplot as plt, json, cv2\n",
    "from tensorflow.keras.utils import to_categorical\n",
    "from tensorflow.keras.preprocessing.image import ImageDataGenerator\n",
    "from tensorflow.keras.layers import Input\n",
    "from tensorflow.keras.models import Model\n",
    "\n",
    "import random, shutil\n",
    "\n",
    "import time\n",
    "from tensorflow.keras.optimizers import Adam\n",
    "from tensorflow.keras.models import Sequential\n",
    "from tensorflow.keras.callbacks import EarlyStopping\n",
    "\n",
    "from tensorflow.keras.regularizers import l2\n",
    "from sklearn.metrics import classification_report, confusion_matrix\n"
   ]
  },
  {
   "cell_type": "markdown",
   "id": "0acfe782",
   "metadata": {
    "papermill": {
     "duration": 0.003358,
     "end_time": "2025-03-19T09:43:34.630723",
     "exception": false,
     "start_time": "2025-03-19T09:43:34.627365",
     "status": "completed"
    },
    "tags": []
   },
   "source": [
    "# **Split file**"
   ]
  },
  {
   "cell_type": "code",
   "execution_count": 2,
   "id": "ce1fae20",
   "metadata": {
    "execution": {
     "iopub.execute_input": "2025-03-19T09:43:34.638597Z",
     "iopub.status.busy": "2025-03-19T09:43:34.638124Z",
     "iopub.status.idle": "2025-03-19T09:43:34.641944Z",
     "shell.execute_reply": "2025-03-19T09:43:34.641343Z"
    },
    "papermill": {
     "duration": 0.008948,
     "end_time": "2025-03-19T09:43:34.643038",
     "exception": false,
     "start_time": "2025-03-19T09:43:34.634090",
     "status": "completed"
    },
    "tags": []
   },
   "outputs": [],
   "source": [
    "# Đường dẫn \n",
    "image_dir = \"/kaggle/input/btxrd-data/BTXRD/BTXRD/images\"\n",
    "annotation_dir = \"/kaggle/input/btxrd-data/BTXRD/BTXRD/Annotations\"\n",
    "\n",
    "output_base = \"/kaggle/working/BTXRD_data\"\n",
    "train_dir = os.path.join(output_base, \"train\")\n",
    "test_dir = os.path.join(output_base, \"test\")\n",
    "valid_dir = os.path.join(output_base, \"valid\")"
   ]
  },
  {
   "cell_type": "code",
   "execution_count": 3,
   "id": "d5541055",
   "metadata": {
    "execution": {
     "iopub.execute_input": "2025-03-19T09:43:34.650781Z",
     "iopub.status.busy": "2025-03-19T09:43:34.650554Z",
     "iopub.status.idle": "2025-03-19T09:45:46.730096Z",
     "shell.execute_reply": "2025-03-19T09:45:46.729142Z"
    },
    "papermill": {
     "duration": 132.088192,
     "end_time": "2025-03-19T09:45:46.734692",
     "exception": false,
     "start_time": "2025-03-19T09:43:34.646500",
     "status": "completed"
    },
    "tags": []
   },
   "outputs": [
    {
     "name": "stdout",
     "output_type": "stream",
     "text": [
      "Đã chia 3746 ảnh thành:\n",
      "- Train: 2622 ảnh\n",
      "- Test: 749 ảnh\n",
      "- Valid: 375 ảnh\n"
     ]
    }
   ],
   "source": [
    "# Tạo thư mục lưu ảnh mới\n",
    "for folder in [train_dir, test_dir, valid_dir]:\n",
    "    os.makedirs(os.path.join(folder, \"images\"), exist_ok=True)\n",
    "    os.makedirs(os.path.join(folder, \"Annotations\"), exist_ok=True)\n",
    "\n",
    "# Lấy danh sách ảnh\n",
    "image_files = [f for f in os.listdir(image_dir) if f.endswith(('.png', '.jpg', '.jpeg'))]\n",
    "random.shuffle(image_files)\n",
    "\n",
    "# Tính số lượng ảnh cho mỗi tập\n",
    "total = len(image_files)\n",
    "train_split = int(0.7 * total)\n",
    "test_split = int(0.2 * total)\n",
    "\n",
    "# Chia danh sách ảnh\n",
    "train_files = image_files[:train_split]\n",
    "test_files = image_files[train_split:train_split + test_split]\n",
    "valid_files = image_files[train_split + test_split:]\n",
    "\n",
    "# Hàm di chuyển ảnh và annotation tương ứng\n",
    "def move_files(files, dest_folder):\n",
    "    for file in files:\n",
    "        # Di chuyển ảnh\n",
    "        shutil.copy(os.path.join(image_dir, file), os.path.join(dest_folder, \"images\", file))\n",
    "\n",
    "        # Di chuyển file annotation nếu có\n",
    "        annotation_file = file.replace(file.split('.')[-1], 'json')  # Đổi đuôi thành .json\n",
    "        if os.path.exists(os.path.join(annotation_dir, annotation_file)):\n",
    "            shutil.copy(os.path.join(annotation_dir, annotation_file), os.path.join(dest_folder, \"Annotations\", annotation_file))\n",
    "\n",
    "# Di chuyển các tập dữ liệu\n",
    "move_files(train_files, train_dir)\n",
    "move_files(test_files, test_dir)\n",
    "move_files(valid_files, valid_dir)\n",
    "\n",
    "print(f\"Đã chia {total} ảnh thành:\")\n",
    "print(f\"- Train: {len(train_files)} ảnh\")\n",
    "print(f\"- Test: {len(test_files)} ảnh\")\n",
    "print(f\"- Valid: {len(valid_files)} ảnh\")\n"
   ]
  },
  {
   "cell_type": "markdown",
   "id": "e90d1e1e",
   "metadata": {
    "papermill": {
     "duration": 0.003378,
     "end_time": "2025-03-19T09:45:46.741672",
     "exception": false,
     "start_time": "2025-03-19T09:45:46.738294",
     "status": "completed"
    },
    "tags": []
   },
   "source": [
    "# **SegNet**"
   ]
  },
  {
   "cell_type": "code",
   "execution_count": 4,
   "id": "fbdf07fc",
   "metadata": {
    "execution": {
     "iopub.execute_input": "2025-03-19T09:45:46.749485Z",
     "iopub.status.busy": "2025-03-19T09:45:46.749181Z",
     "iopub.status.idle": "2025-03-19T09:45:46.752547Z",
     "shell.execute_reply": "2025-03-19T09:45:46.751724Z"
    },
    "papermill": {
     "duration": 0.008691,
     "end_time": "2025-03-19T09:45:46.753823",
     "exception": false,
     "start_time": "2025-03-19T09:45:46.745132",
     "status": "completed"
    },
    "tags": []
   },
   "outputs": [],
   "source": [
    "n_classes = 2     # normal, tumor\n",
    "img_h = img_w = 96"
   ]
  },
  {
   "cell_type": "code",
   "execution_count": 5,
   "id": "d3aca52f",
   "metadata": {
    "execution": {
     "iopub.execute_input": "2025-03-19T09:45:46.761436Z",
     "iopub.status.busy": "2025-03-19T09:45:46.761227Z",
     "iopub.status.idle": "2025-03-19T09:45:46.764795Z",
     "shell.execute_reply": "2025-03-19T09:45:46.764166Z"
    },
    "papermill": {
     "duration": 0.008647,
     "end_time": "2025-03-19T09:45:46.765947",
     "exception": false,
     "start_time": "2025-03-19T09:45:46.757300",
     "status": "completed"
    },
    "tags": []
   },
   "outputs": [],
   "source": [
    "# Đường dẫn dữ liệu\n",
    "data_dir = '/kaggle/input/btxrd-v2/'\n",
    "train_images_dir = os.path.join(data_dir, \"train\", \"images\")\n",
    "train_annotations_dir = os.path.join(data_dir, \"train\", \"Annotations\")\n",
    "valid_images_dir = os.path.join(data_dir, \"valid\", \"images\")\n",
    "valid_annotations_dir = os.path.join(data_dir, \"valid\", \"Annotations\")\n"
   ]
  },
  {
   "cell_type": "code",
   "execution_count": 6,
   "id": "9c3f0949",
   "metadata": {
    "execution": {
     "iopub.execute_input": "2025-03-19T09:45:46.773796Z",
     "iopub.status.busy": "2025-03-19T09:45:46.773575Z",
     "iopub.status.idle": "2025-03-19T09:45:46.779261Z",
     "shell.execute_reply": "2025-03-19T09:45:46.778482Z"
    },
    "papermill": {
     "duration": 0.011064,
     "end_time": "2025-03-19T09:45:46.780574",
     "exception": false,
     "start_time": "2025-03-19T09:45:46.769510",
     "status": "completed"
    },
    "tags": []
   },
   "outputs": [],
   "source": [
    "def load_data(images_dir, annotations_dir):\n",
    "    images, labels = [], []\n",
    "    image_files = [f for f in os.listdir(images_dir) if f.endswith(('.png', '.jpg', '.jpeg'))]\n",
    "\n",
    "    for img_file in image_files:\n",
    "        img_path = os.path.join(images_dir, img_file)\n",
    "        annotation_path = os.path.join(annotations_dir, os.path.splitext(img_file)[0] + '.json')\n",
    "\n",
    "        # Đọc ảnh grayscale và resize\n",
    "        img = cv2.imread(img_path, cv2.IMREAD_GRAYSCALE)\n",
    "        img = cv2.resize(img, (img_h, img_w))\n",
    "\n",
    "        # Mặc định không có khối u (0)\n",
    "        label = 0  \n",
    "        if os.path.exists(annotation_path):\n",
    "            with open(annotation_path, 'r') as f:\n",
    "                annotation_data = json.load(f)\n",
    "            if \"shapes\" in annotation_data and len(annotation_data[\"shapes\"]) > 0:\n",
    "                label = 1  # Có khối u\n",
    "\n",
    "        images.append(img)\n",
    "        labels.append(label)\n",
    "\n",
    "    # Chuẩn hóa dữ liệu\n",
    "    images = np.array(images, dtype=np.float32) / 255.0\n",
    "    images = np.expand_dims(images, axis=-1)  # Thêm kênh để phù hợp với CNN\n",
    "    labels = to_categorical(labels, num_classes=n_classes)\n",
    "\n",
    "    return images, labels\n",
    "\n"
   ]
  },
  {
   "cell_type": "code",
   "execution_count": 7,
   "id": "00a7bd31",
   "metadata": {
    "execution": {
     "iopub.execute_input": "2025-03-19T09:45:46.788260Z",
     "iopub.status.busy": "2025-03-19T09:45:46.788062Z",
     "iopub.status.idle": "2025-03-19T09:47:14.648233Z",
     "shell.execute_reply": "2025-03-19T09:47:14.647240Z"
    },
    "papermill": {
     "duration": 87.865936,
     "end_time": "2025-03-19T09:47:14.650017",
     "exception": false,
     "start_time": "2025-03-19T09:45:46.784081",
     "status": "completed"
    },
    "tags": []
   },
   "outputs": [],
   "source": [
    "x_train, y_train = load_data(train_images_dir, train_annotations_dir)\n",
    "x_valid, y_valid = load_data(valid_images_dir, valid_annotations_dir)"
   ]
  },
  {
   "cell_type": "code",
   "execution_count": 8,
   "id": "f648e0e5",
   "metadata": {
    "execution": {
     "iopub.execute_input": "2025-03-19T09:47:14.658789Z",
     "iopub.status.busy": "2025-03-19T09:47:14.658545Z",
     "iopub.status.idle": "2025-03-19T09:47:14.666020Z",
     "shell.execute_reply": "2025-03-19T09:47:14.665050Z"
    },
    "papermill": {
     "duration": 0.013391,
     "end_time": "2025-03-19T09:47:14.667738",
     "exception": false,
     "start_time": "2025-03-19T09:47:14.654347",
     "status": "completed"
    },
    "tags": []
   },
   "outputs": [
    {
     "name": "stdout",
     "output_type": "stream",
     "text": [
      "Số lượng ảnh trong tập train: 2622\n",
      "Số lượng ảnh trong tập validation: 375\n",
      "Kích thước ảnh trong tập train: (2622, 96, 96, 1)\n",
      "Kích thước ảnh trong tập validation: (375, 96, 96, 1)\n",
      "Số lượng nhãn (train): [1306 1316]\n",
      "Số lượng nhãn (validation): [187 188]\n"
     ]
    }
   ],
   "source": [
    "# Kiểm tra số lượng mẫu trong tập train và validation\n",
    "print(f\"Số lượng ảnh trong tập train: {len(x_train)}\")\n",
    "print(f\"Số lượng ảnh trong tập validation: {len(x_valid)}\")\n",
    "\n",
    "# Kiểm tra kích thước ảnh\n",
    "print(f\"Kích thước ảnh trong tập train: {x_train.shape}\")\n",
    "print(f\"Kích thước ảnh trong tập validation: {x_valid.shape}\")\n",
    "\n",
    "# Kiểm tra nhãn\n",
    "print(f\"Số lượng nhãn (train): {np.bincount(np.argmax(y_train, axis=1))}\")\n",
    "print(f\"Số lượng nhãn (validation): {np.bincount(np.argmax(y_valid, axis=1))}\")\n"
   ]
  },
  {
   "cell_type": "code",
   "execution_count": 9,
   "id": "61171b1d",
   "metadata": {
    "execution": {
     "iopub.execute_input": "2025-03-19T09:47:14.676689Z",
     "iopub.status.busy": "2025-03-19T09:47:14.676449Z",
     "iopub.status.idle": "2025-03-19T09:47:16.992062Z",
     "shell.execute_reply": "2025-03-19T09:47:16.991407Z"
    },
    "papermill": {
     "duration": 2.321694,
     "end_time": "2025-03-19T09:47:16.993558",
     "exception": false,
     "start_time": "2025-03-19T09:47:14.671864",
     "status": "completed"
    },
    "tags": []
   },
   "outputs": [],
   "source": [
    "# Định nghĩa CNN\n",
    "input_image = Input(shape=(img_h, img_w, 1), name='Input')\n",
    "\n",
    "x = Conv2D(64, (3, 3), padding='same', activation='relu')(input_image)\n",
    "x = Conv2D(64, (3, 3), padding='valid', activation='relu')(x)\n",
    "x = MaxPooling2D(pool_size=(2, 2))(x)\n",
    "x = Dropout(0.25)(x)\n",
    "\n",
    "x = Conv2D(128, (3, 3), padding='same', activation='relu')(x)\n",
    "x = Conv2D(128, (3, 3), padding='valid', activation='relu')(x)\n",
    "x = MaxPooling2D(pool_size=(2, 2))(x)\n",
    "x = Dropout(0.25)(x)\n",
    "\n",
    "x = Flatten()(x)\n",
    "x = Dense(512, activation='relu')(x)\n",
    "x = Dropout(0.5)(x)\n",
    "\n",
    "output_label = Dense(n_classes, activation='softmax')(x)\n",
    "\n",
    "model = Model(inputs=input_image, outputs=output_label, name='btxrd_cnn')\n"
   ]
  },
  {
   "cell_type": "code",
   "execution_count": 10,
   "id": "e18c150f",
   "metadata": {
    "execution": {
     "iopub.execute_input": "2025-03-19T09:47:17.002348Z",
     "iopub.status.busy": "2025-03-19T09:47:17.002123Z",
     "iopub.status.idle": "2025-03-19T09:47:17.022681Z",
     "shell.execute_reply": "2025-03-19T09:47:17.022002Z"
    },
    "papermill": {
     "duration": 0.026099,
     "end_time": "2025-03-19T09:47:17.023772",
     "exception": false,
     "start_time": "2025-03-19T09:47:16.997673",
     "status": "completed"
    },
    "tags": []
   },
   "outputs": [
    {
     "data": {
      "text/html": [
       "<pre style=\"white-space:pre;overflow-x:auto;line-height:normal;font-family:Menlo,'DejaVu Sans Mono',consolas,'Courier New',monospace\"><span style=\"font-weight: bold\">Model: \"btxrd_cnn\"</span>\n",
       "</pre>\n"
      ],
      "text/plain": [
       "\u001b[1mModel: \"btxrd_cnn\"\u001b[0m\n"
      ]
     },
     "metadata": {},
     "output_type": "display_data"
    },
    {
     "data": {
      "text/html": [
       "<pre style=\"white-space:pre;overflow-x:auto;line-height:normal;font-family:Menlo,'DejaVu Sans Mono',consolas,'Courier New',monospace\">┏━━━━━━━━━━━━━━━━━━━━━━━━━━━━━━━━━━━━━━┳━━━━━━━━━━━━━━━━━━━━━━━━━━━━━┳━━━━━━━━━━━━━━━━━┓\n",
       "┃<span style=\"font-weight: bold\"> Layer (type)                         </span>┃<span style=\"font-weight: bold\"> Output Shape                </span>┃<span style=\"font-weight: bold\">         Param # </span>┃\n",
       "┡━━━━━━━━━━━━━━━━━━━━━━━━━━━━━━━━━━━━━━╇━━━━━━━━━━━━━━━━━━━━━━━━━━━━━╇━━━━━━━━━━━━━━━━━┩\n",
       "│ Input (<span style=\"color: #0087ff; text-decoration-color: #0087ff\">InputLayer</span>)                   │ (<span style=\"color: #00d7ff; text-decoration-color: #00d7ff\">None</span>, <span style=\"color: #00af00; text-decoration-color: #00af00\">96</span>, <span style=\"color: #00af00; text-decoration-color: #00af00\">96</span>, <span style=\"color: #00af00; text-decoration-color: #00af00\">1</span>)           │               <span style=\"color: #00af00; text-decoration-color: #00af00\">0</span> │\n",
       "├──────────────────────────────────────┼─────────────────────────────┼─────────────────┤\n",
       "│ conv2d (<span style=\"color: #0087ff; text-decoration-color: #0087ff\">Conv2D</span>)                      │ (<span style=\"color: #00d7ff; text-decoration-color: #00d7ff\">None</span>, <span style=\"color: #00af00; text-decoration-color: #00af00\">96</span>, <span style=\"color: #00af00; text-decoration-color: #00af00\">96</span>, <span style=\"color: #00af00; text-decoration-color: #00af00\">64</span>)          │             <span style=\"color: #00af00; text-decoration-color: #00af00\">640</span> │\n",
       "├──────────────────────────────────────┼─────────────────────────────┼─────────────────┤\n",
       "│ conv2d_1 (<span style=\"color: #0087ff; text-decoration-color: #0087ff\">Conv2D</span>)                    │ (<span style=\"color: #00d7ff; text-decoration-color: #00d7ff\">None</span>, <span style=\"color: #00af00; text-decoration-color: #00af00\">94</span>, <span style=\"color: #00af00; text-decoration-color: #00af00\">94</span>, <span style=\"color: #00af00; text-decoration-color: #00af00\">64</span>)          │          <span style=\"color: #00af00; text-decoration-color: #00af00\">36,928</span> │\n",
       "├──────────────────────────────────────┼─────────────────────────────┼─────────────────┤\n",
       "│ max_pooling2d (<span style=\"color: #0087ff; text-decoration-color: #0087ff\">MaxPooling2D</span>)         │ (<span style=\"color: #00d7ff; text-decoration-color: #00d7ff\">None</span>, <span style=\"color: #00af00; text-decoration-color: #00af00\">47</span>, <span style=\"color: #00af00; text-decoration-color: #00af00\">47</span>, <span style=\"color: #00af00; text-decoration-color: #00af00\">64</span>)          │               <span style=\"color: #00af00; text-decoration-color: #00af00\">0</span> │\n",
       "├──────────────────────────────────────┼─────────────────────────────┼─────────────────┤\n",
       "│ dropout (<span style=\"color: #0087ff; text-decoration-color: #0087ff\">Dropout</span>)                    │ (<span style=\"color: #00d7ff; text-decoration-color: #00d7ff\">None</span>, <span style=\"color: #00af00; text-decoration-color: #00af00\">47</span>, <span style=\"color: #00af00; text-decoration-color: #00af00\">47</span>, <span style=\"color: #00af00; text-decoration-color: #00af00\">64</span>)          │               <span style=\"color: #00af00; text-decoration-color: #00af00\">0</span> │\n",
       "├──────────────────────────────────────┼─────────────────────────────┼─────────────────┤\n",
       "│ conv2d_2 (<span style=\"color: #0087ff; text-decoration-color: #0087ff\">Conv2D</span>)                    │ (<span style=\"color: #00d7ff; text-decoration-color: #00d7ff\">None</span>, <span style=\"color: #00af00; text-decoration-color: #00af00\">47</span>, <span style=\"color: #00af00; text-decoration-color: #00af00\">47</span>, <span style=\"color: #00af00; text-decoration-color: #00af00\">128</span>)         │          <span style=\"color: #00af00; text-decoration-color: #00af00\">73,856</span> │\n",
       "├──────────────────────────────────────┼─────────────────────────────┼─────────────────┤\n",
       "│ conv2d_3 (<span style=\"color: #0087ff; text-decoration-color: #0087ff\">Conv2D</span>)                    │ (<span style=\"color: #00d7ff; text-decoration-color: #00d7ff\">None</span>, <span style=\"color: #00af00; text-decoration-color: #00af00\">45</span>, <span style=\"color: #00af00; text-decoration-color: #00af00\">45</span>, <span style=\"color: #00af00; text-decoration-color: #00af00\">128</span>)         │         <span style=\"color: #00af00; text-decoration-color: #00af00\">147,584</span> │\n",
       "├──────────────────────────────────────┼─────────────────────────────┼─────────────────┤\n",
       "│ max_pooling2d_1 (<span style=\"color: #0087ff; text-decoration-color: #0087ff\">MaxPooling2D</span>)       │ (<span style=\"color: #00d7ff; text-decoration-color: #00d7ff\">None</span>, <span style=\"color: #00af00; text-decoration-color: #00af00\">22</span>, <span style=\"color: #00af00; text-decoration-color: #00af00\">22</span>, <span style=\"color: #00af00; text-decoration-color: #00af00\">128</span>)         │               <span style=\"color: #00af00; text-decoration-color: #00af00\">0</span> │\n",
       "├──────────────────────────────────────┼─────────────────────────────┼─────────────────┤\n",
       "│ dropout_1 (<span style=\"color: #0087ff; text-decoration-color: #0087ff\">Dropout</span>)                  │ (<span style=\"color: #00d7ff; text-decoration-color: #00d7ff\">None</span>, <span style=\"color: #00af00; text-decoration-color: #00af00\">22</span>, <span style=\"color: #00af00; text-decoration-color: #00af00\">22</span>, <span style=\"color: #00af00; text-decoration-color: #00af00\">128</span>)         │               <span style=\"color: #00af00; text-decoration-color: #00af00\">0</span> │\n",
       "├──────────────────────────────────────┼─────────────────────────────┼─────────────────┤\n",
       "│ flatten (<span style=\"color: #0087ff; text-decoration-color: #0087ff\">Flatten</span>)                    │ (<span style=\"color: #00d7ff; text-decoration-color: #00d7ff\">None</span>, <span style=\"color: #00af00; text-decoration-color: #00af00\">61952</span>)               │               <span style=\"color: #00af00; text-decoration-color: #00af00\">0</span> │\n",
       "├──────────────────────────────────────┼─────────────────────────────┼─────────────────┤\n",
       "│ dense (<span style=\"color: #0087ff; text-decoration-color: #0087ff\">Dense</span>)                        │ (<span style=\"color: #00d7ff; text-decoration-color: #00d7ff\">None</span>, <span style=\"color: #00af00; text-decoration-color: #00af00\">512</span>)                 │      <span style=\"color: #00af00; text-decoration-color: #00af00\">31,719,936</span> │\n",
       "├──────────────────────────────────────┼─────────────────────────────┼─────────────────┤\n",
       "│ dropout_2 (<span style=\"color: #0087ff; text-decoration-color: #0087ff\">Dropout</span>)                  │ (<span style=\"color: #00d7ff; text-decoration-color: #00d7ff\">None</span>, <span style=\"color: #00af00; text-decoration-color: #00af00\">512</span>)                 │               <span style=\"color: #00af00; text-decoration-color: #00af00\">0</span> │\n",
       "├──────────────────────────────────────┼─────────────────────────────┼─────────────────┤\n",
       "│ dense_1 (<span style=\"color: #0087ff; text-decoration-color: #0087ff\">Dense</span>)                      │ (<span style=\"color: #00d7ff; text-decoration-color: #00d7ff\">None</span>, <span style=\"color: #00af00; text-decoration-color: #00af00\">2</span>)                   │           <span style=\"color: #00af00; text-decoration-color: #00af00\">1,026</span> │\n",
       "└──────────────────────────────────────┴─────────────────────────────┴─────────────────┘\n",
       "</pre>\n"
      ],
      "text/plain": [
       "┏━━━━━━━━━━━━━━━━━━━━━━━━━━━━━━━━━━━━━━┳━━━━━━━━━━━━━━━━━━━━━━━━━━━━━┳━━━━━━━━━━━━━━━━━┓\n",
       "┃\u001b[1m \u001b[0m\u001b[1mLayer (type)                        \u001b[0m\u001b[1m \u001b[0m┃\u001b[1m \u001b[0m\u001b[1mOutput Shape               \u001b[0m\u001b[1m \u001b[0m┃\u001b[1m \u001b[0m\u001b[1m        Param #\u001b[0m\u001b[1m \u001b[0m┃\n",
       "┡━━━━━━━━━━━━━━━━━━━━━━━━━━━━━━━━━━━━━━╇━━━━━━━━━━━━━━━━━━━━━━━━━━━━━╇━━━━━━━━━━━━━━━━━┩\n",
       "│ Input (\u001b[38;5;33mInputLayer\u001b[0m)                   │ (\u001b[38;5;45mNone\u001b[0m, \u001b[38;5;34m96\u001b[0m, \u001b[38;5;34m96\u001b[0m, \u001b[38;5;34m1\u001b[0m)           │               \u001b[38;5;34m0\u001b[0m │\n",
       "├──────────────────────────────────────┼─────────────────────────────┼─────────────────┤\n",
       "│ conv2d (\u001b[38;5;33mConv2D\u001b[0m)                      │ (\u001b[38;5;45mNone\u001b[0m, \u001b[38;5;34m96\u001b[0m, \u001b[38;5;34m96\u001b[0m, \u001b[38;5;34m64\u001b[0m)          │             \u001b[38;5;34m640\u001b[0m │\n",
       "├──────────────────────────────────────┼─────────────────────────────┼─────────────────┤\n",
       "│ conv2d_1 (\u001b[38;5;33mConv2D\u001b[0m)                    │ (\u001b[38;5;45mNone\u001b[0m, \u001b[38;5;34m94\u001b[0m, \u001b[38;5;34m94\u001b[0m, \u001b[38;5;34m64\u001b[0m)          │          \u001b[38;5;34m36,928\u001b[0m │\n",
       "├──────────────────────────────────────┼─────────────────────────────┼─────────────────┤\n",
       "│ max_pooling2d (\u001b[38;5;33mMaxPooling2D\u001b[0m)         │ (\u001b[38;5;45mNone\u001b[0m, \u001b[38;5;34m47\u001b[0m, \u001b[38;5;34m47\u001b[0m, \u001b[38;5;34m64\u001b[0m)          │               \u001b[38;5;34m0\u001b[0m │\n",
       "├──────────────────────────────────────┼─────────────────────────────┼─────────────────┤\n",
       "│ dropout (\u001b[38;5;33mDropout\u001b[0m)                    │ (\u001b[38;5;45mNone\u001b[0m, \u001b[38;5;34m47\u001b[0m, \u001b[38;5;34m47\u001b[0m, \u001b[38;5;34m64\u001b[0m)          │               \u001b[38;5;34m0\u001b[0m │\n",
       "├──────────────────────────────────────┼─────────────────────────────┼─────────────────┤\n",
       "│ conv2d_2 (\u001b[38;5;33mConv2D\u001b[0m)                    │ (\u001b[38;5;45mNone\u001b[0m, \u001b[38;5;34m47\u001b[0m, \u001b[38;5;34m47\u001b[0m, \u001b[38;5;34m128\u001b[0m)         │          \u001b[38;5;34m73,856\u001b[0m │\n",
       "├──────────────────────────────────────┼─────────────────────────────┼─────────────────┤\n",
       "│ conv2d_3 (\u001b[38;5;33mConv2D\u001b[0m)                    │ (\u001b[38;5;45mNone\u001b[0m, \u001b[38;5;34m45\u001b[0m, \u001b[38;5;34m45\u001b[0m, \u001b[38;5;34m128\u001b[0m)         │         \u001b[38;5;34m147,584\u001b[0m │\n",
       "├──────────────────────────────────────┼─────────────────────────────┼─────────────────┤\n",
       "│ max_pooling2d_1 (\u001b[38;5;33mMaxPooling2D\u001b[0m)       │ (\u001b[38;5;45mNone\u001b[0m, \u001b[38;5;34m22\u001b[0m, \u001b[38;5;34m22\u001b[0m, \u001b[38;5;34m128\u001b[0m)         │               \u001b[38;5;34m0\u001b[0m │\n",
       "├──────────────────────────────────────┼─────────────────────────────┼─────────────────┤\n",
       "│ dropout_1 (\u001b[38;5;33mDropout\u001b[0m)                  │ (\u001b[38;5;45mNone\u001b[0m, \u001b[38;5;34m22\u001b[0m, \u001b[38;5;34m22\u001b[0m, \u001b[38;5;34m128\u001b[0m)         │               \u001b[38;5;34m0\u001b[0m │\n",
       "├──────────────────────────────────────┼─────────────────────────────┼─────────────────┤\n",
       "│ flatten (\u001b[38;5;33mFlatten\u001b[0m)                    │ (\u001b[38;5;45mNone\u001b[0m, \u001b[38;5;34m61952\u001b[0m)               │               \u001b[38;5;34m0\u001b[0m │\n",
       "├──────────────────────────────────────┼─────────────────────────────┼─────────────────┤\n",
       "│ dense (\u001b[38;5;33mDense\u001b[0m)                        │ (\u001b[38;5;45mNone\u001b[0m, \u001b[38;5;34m512\u001b[0m)                 │      \u001b[38;5;34m31,719,936\u001b[0m │\n",
       "├──────────────────────────────────────┼─────────────────────────────┼─────────────────┤\n",
       "│ dropout_2 (\u001b[38;5;33mDropout\u001b[0m)                  │ (\u001b[38;5;45mNone\u001b[0m, \u001b[38;5;34m512\u001b[0m)                 │               \u001b[38;5;34m0\u001b[0m │\n",
       "├──────────────────────────────────────┼─────────────────────────────┼─────────────────┤\n",
       "│ dense_1 (\u001b[38;5;33mDense\u001b[0m)                      │ (\u001b[38;5;45mNone\u001b[0m, \u001b[38;5;34m2\u001b[0m)                   │           \u001b[38;5;34m1,026\u001b[0m │\n",
       "└──────────────────────────────────────┴─────────────────────────────┴─────────────────┘\n"
      ]
     },
     "metadata": {},
     "output_type": "display_data"
    },
    {
     "data": {
      "text/html": [
       "<pre style=\"white-space:pre;overflow-x:auto;line-height:normal;font-family:Menlo,'DejaVu Sans Mono',consolas,'Courier New',monospace\"><span style=\"font-weight: bold\"> Total params: </span><span style=\"color: #00af00; text-decoration-color: #00af00\">31,979,970</span> (121.99 MB)\n",
       "</pre>\n"
      ],
      "text/plain": [
       "\u001b[1m Total params: \u001b[0m\u001b[38;5;34m31,979,970\u001b[0m (121.99 MB)\n"
      ]
     },
     "metadata": {},
     "output_type": "display_data"
    },
    {
     "data": {
      "text/html": [
       "<pre style=\"white-space:pre;overflow-x:auto;line-height:normal;font-family:Menlo,'DejaVu Sans Mono',consolas,'Courier New',monospace\"><span style=\"font-weight: bold\"> Trainable params: </span><span style=\"color: #00af00; text-decoration-color: #00af00\">31,979,970</span> (121.99 MB)\n",
       "</pre>\n"
      ],
      "text/plain": [
       "\u001b[1m Trainable params: \u001b[0m\u001b[38;5;34m31,979,970\u001b[0m (121.99 MB)\n"
      ]
     },
     "metadata": {},
     "output_type": "display_data"
    },
    {
     "data": {
      "text/html": [
       "<pre style=\"white-space:pre;overflow-x:auto;line-height:normal;font-family:Menlo,'DejaVu Sans Mono',consolas,'Courier New',monospace\"><span style=\"font-weight: bold\"> Non-trainable params: </span><span style=\"color: #00af00; text-decoration-color: #00af00\">0</span> (0.00 B)\n",
       "</pre>\n"
      ],
      "text/plain": [
       "\u001b[1m Non-trainable params: \u001b[0m\u001b[38;5;34m0\u001b[0m (0.00 B)\n"
      ]
     },
     "metadata": {},
     "output_type": "display_data"
    }
   ],
   "source": [
    "# In mô hình\n",
    "model.summary()"
   ]
  },
  {
   "cell_type": "code",
   "execution_count": 11,
   "id": "2d8be845",
   "metadata": {
    "execution": {
     "iopub.execute_input": "2025-03-19T09:47:17.033075Z",
     "iopub.status.busy": "2025-03-19T09:47:17.032873Z",
     "iopub.status.idle": "2025-03-19T09:47:17.068707Z",
     "shell.execute_reply": "2025-03-19T09:47:17.068088Z"
    },
    "papermill": {
     "duration": 0.041801,
     "end_time": "2025-03-19T09:47:17.070014",
     "exception": false,
     "start_time": "2025-03-19T09:47:17.028213",
     "status": "completed"
    },
    "tags": []
   },
   "outputs": [],
   "source": [
    "# Data Augmentation (Chỉ áp dụng cho tập train)\n",
    "datagen = ImageDataGenerator(\n",
    "    rotation_range=15,  \n",
    "    width_shift_range=0.1,\n",
    "    height_shift_range=0.1,\n",
    "    zoom_range=0.2,\n",
    "    horizontal_flip=True\n",
    ")\n",
    "datagen.fit(x_train)"
   ]
  },
  {
   "cell_type": "code",
   "execution_count": 12,
   "id": "1ae4675d",
   "metadata": {
    "execution": {
     "iopub.execute_input": "2025-03-19T09:47:17.079390Z",
     "iopub.status.busy": "2025-03-19T09:47:17.079156Z",
     "iopub.status.idle": "2025-03-19T09:49:25.270624Z",
     "shell.execute_reply": "2025-03-19T09:49:25.269738Z"
    },
    "papermill": {
     "duration": 128.19746,
     "end_time": "2025-03-19T09:49:25.271943",
     "exception": false,
     "start_time": "2025-03-19T09:47:17.074483",
     "status": "completed"
    },
    "tags": []
   },
   "outputs": [
    {
     "name": "stdout",
     "output_type": "stream",
     "text": [
      "Epoch 1/50\n"
     ]
    },
    {
     "name": "stderr",
     "output_type": "stream",
     "text": [
      "/usr/local/lib/python3.10/dist-packages/keras/src/trainers/data_adapters/py_dataset_adapter.py:122: UserWarning: Your `PyDataset` class should call `super().__init__(**kwargs)` in its constructor. `**kwargs` can include `workers`, `use_multiprocessing`, `max_queue_size`. Do not pass these arguments to `fit()`, as they will be ignored.\n",
      "  self._warn_if_super_not_called()\n"
     ]
    },
    {
     "name": "stdout",
     "output_type": "stream",
     "text": [
      "\u001b[1m164/164\u001b[0m \u001b[32m━━━━━━━━━━━━━━━━━━━━\u001b[0m\u001b[37m\u001b[0m \u001b[1m21s\u001b[0m 81ms/step - accuracy: 0.5312 - loss: 0.6963 - val_accuracy: 0.6107 - val_loss: 0.6812\n",
      "Epoch 2/50\n",
      "\u001b[1m164/164\u001b[0m \u001b[32m━━━━━━━━━━━━━━━━━━━━\u001b[0m\u001b[37m\u001b[0m \u001b[1m5s\u001b[0m 29ms/step - accuracy: 0.5661 - loss: 0.6766 - val_accuracy: 0.6293 - val_loss: 0.6380\n",
      "Epoch 3/50\n",
      "\u001b[1m164/164\u001b[0m \u001b[32m━━━━━━━━━━━━━━━━━━━━\u001b[0m\u001b[37m\u001b[0m \u001b[1m5s\u001b[0m 29ms/step - accuracy: 0.6316 - loss: 0.6457 - val_accuracy: 0.6747 - val_loss: 0.6150\n",
      "Epoch 4/50\n",
      "\u001b[1m164/164\u001b[0m \u001b[32m━━━━━━━━━━━━━━━━━━━━\u001b[0m\u001b[37m\u001b[0m \u001b[1m5s\u001b[0m 29ms/step - accuracy: 0.6563 - loss: 0.6254 - val_accuracy: 0.6853 - val_loss: 0.5993\n",
      "Epoch 5/50\n",
      "\u001b[1m164/164\u001b[0m \u001b[32m━━━━━━━━━━━━━━━━━━━━\u001b[0m\u001b[37m\u001b[0m \u001b[1m5s\u001b[0m 30ms/step - accuracy: 0.6929 - loss: 0.5971 - val_accuracy: 0.6880 - val_loss: 0.5973\n",
      "Epoch 6/50\n",
      "\u001b[1m164/164\u001b[0m \u001b[32m━━━━━━━━━━━━━━━━━━━━\u001b[0m\u001b[37m\u001b[0m \u001b[1m5s\u001b[0m 30ms/step - accuracy: 0.6974 - loss: 0.5856 - val_accuracy: 0.7093 - val_loss: 0.5768\n",
      "Epoch 7/50\n",
      "\u001b[1m164/164\u001b[0m \u001b[32m━━━━━━━━━━━━━━━━━━━━\u001b[0m\u001b[37m\u001b[0m \u001b[1m5s\u001b[0m 29ms/step - accuracy: 0.6833 - loss: 0.5929 - val_accuracy: 0.6960 - val_loss: 0.5931\n",
      "Epoch 8/50\n",
      "\u001b[1m164/164\u001b[0m \u001b[32m━━━━━━━━━━━━━━━━━━━━\u001b[0m\u001b[37m\u001b[0m \u001b[1m5s\u001b[0m 29ms/step - accuracy: 0.6637 - loss: 0.6123 - val_accuracy: 0.6960 - val_loss: 0.5933\n",
      "Epoch 9/50\n",
      "\u001b[1m164/164\u001b[0m \u001b[32m━━━━━━━━━━━━━━━━━━━━\u001b[0m\u001b[37m\u001b[0m \u001b[1m5s\u001b[0m 30ms/step - accuracy: 0.6995 - loss: 0.5782 - val_accuracy: 0.7120 - val_loss: 0.5829\n",
      "Epoch 10/50\n",
      "\u001b[1m164/164\u001b[0m \u001b[32m━━━━━━━━━━━━━━━━━━━━\u001b[0m\u001b[37m\u001b[0m \u001b[1m5s\u001b[0m 30ms/step - accuracy: 0.7002 - loss: 0.5853 - val_accuracy: 0.7173 - val_loss: 0.5672\n",
      "Epoch 11/50\n",
      "\u001b[1m164/164\u001b[0m \u001b[32m━━━━━━━━━━━━━━━━━━━━\u001b[0m\u001b[37m\u001b[0m \u001b[1m5s\u001b[0m 29ms/step - accuracy: 0.7064 - loss: 0.5618 - val_accuracy: 0.7013 - val_loss: 0.5758\n",
      "Epoch 12/50\n",
      "\u001b[1m164/164\u001b[0m \u001b[32m━━━━━━━━━━━━━━━━━━━━\u001b[0m\u001b[37m\u001b[0m \u001b[1m5s\u001b[0m 31ms/step - accuracy: 0.7112 - loss: 0.5683 - val_accuracy: 0.7307 - val_loss: 0.5668\n",
      "Epoch 13/50\n",
      "\u001b[1m164/164\u001b[0m \u001b[32m━━━━━━━━━━━━━━━━━━━━\u001b[0m\u001b[37m\u001b[0m \u001b[1m5s\u001b[0m 30ms/step - accuracy: 0.7343 - loss: 0.5553 - val_accuracy: 0.7120 - val_loss: 0.5796\n",
      "Epoch 14/50\n",
      "\u001b[1m164/164\u001b[0m \u001b[32m━━━━━━━━━━━━━━━━━━━━\u001b[0m\u001b[37m\u001b[0m \u001b[1m5s\u001b[0m 30ms/step - accuracy: 0.7233 - loss: 0.5559 - val_accuracy: 0.7280 - val_loss: 0.5897\n",
      "Epoch 15/50\n",
      "\u001b[1m164/164\u001b[0m \u001b[32m━━━━━━━━━━━━━━━━━━━━\u001b[0m\u001b[37m\u001b[0m \u001b[1m5s\u001b[0m 30ms/step - accuracy: 0.7056 - loss: 0.5735 - val_accuracy: 0.7013 - val_loss: 0.5734\n",
      "Epoch 16/50\n",
      "\u001b[1m164/164\u001b[0m \u001b[32m━━━━━━━━━━━━━━━━━━━━\u001b[0m\u001b[37m\u001b[0m \u001b[1m5s\u001b[0m 31ms/step - accuracy: 0.7228 - loss: 0.5596 - val_accuracy: 0.7120 - val_loss: 0.5833\n",
      "Epoch 17/50\n",
      "\u001b[1m164/164\u001b[0m \u001b[32m━━━━━━━━━━━━━━━━━━━━\u001b[0m\u001b[37m\u001b[0m \u001b[1m5s\u001b[0m 31ms/step - accuracy: 0.7233 - loss: 0.5556 - val_accuracy: 0.7120 - val_loss: 0.5560\n",
      "Epoch 18/50\n",
      "\u001b[1m164/164\u001b[0m \u001b[32m━━━━━━━━━━━━━━━━━━━━\u001b[0m\u001b[37m\u001b[0m \u001b[1m5s\u001b[0m 31ms/step - accuracy: 0.7209 - loss: 0.5437 - val_accuracy: 0.7120 - val_loss: 0.5737\n",
      "Epoch 19/50\n",
      "\u001b[1m164/164\u001b[0m \u001b[32m━━━━━━━━━━━━━━━━━━━━\u001b[0m\u001b[37m\u001b[0m \u001b[1m5s\u001b[0m 31ms/step - accuracy: 0.7272 - loss: 0.5420 - val_accuracy: 0.7253 - val_loss: 0.5625\n",
      "Epoch 20/50\n",
      "\u001b[1m164/164\u001b[0m \u001b[32m━━━━━━━━━━━━━━━━━━━━\u001b[0m\u001b[37m\u001b[0m \u001b[1m5s\u001b[0m 32ms/step - accuracy: 0.7225 - loss: 0.5562 - val_accuracy: 0.7120 - val_loss: 0.5649\n",
      "Epoch 21/50\n",
      "\u001b[1m164/164\u001b[0m \u001b[32m━━━━━━━━━━━━━━━━━━━━\u001b[0m\u001b[37m\u001b[0m \u001b[1m5s\u001b[0m 32ms/step - accuracy: 0.7133 - loss: 0.5526 - val_accuracy: 0.7200 - val_loss: 0.5533\n",
      "Epoch 22/50\n",
      "\u001b[1m164/164\u001b[0m \u001b[32m━━━━━━━━━━━━━━━━━━━━\u001b[0m\u001b[37m\u001b[0m \u001b[1m5s\u001b[0m 33ms/step - accuracy: 0.7160 - loss: 0.5426 - val_accuracy: 0.7093 - val_loss: 0.5650\n",
      "> training time is 2.1364 minutes\n"
     ]
    }
   ],
   "source": [
    "starting_time = time.time()\n",
    "\n",
    "# Compile mô hình\n",
    "model.compile(optimizer=Adam(learning_rate=0.0001), loss='categorical_crossentropy', metrics=['accuracy'])\n",
    "\n",
    "# Early Stopping để tránh overfitting\n",
    "early_stopping = EarlyStopping(monitor='val_accuracy', patience=10, restore_best_weights=True)\n",
    "\n",
    "# Train mô hình với Data Augmentation\n",
    "history = model.fit(datagen.flow(x_train, y_train, batch_size=16),\n",
    "                    validation_data=(x_valid, y_valid),\n",
    "                    epochs=50,\n",
    "                    callbacks=[early_stopping])\n",
    "print('> training time is %.4f minutes' % ((time.time() - starting_time)/60))"
   ]
  },
  {
   "cell_type": "code",
   "execution_count": 13,
   "id": "7992fab7",
   "metadata": {
    "execution": {
     "iopub.execute_input": "2025-03-19T09:49:25.451923Z",
     "iopub.status.busy": "2025-03-19T09:49:25.451629Z",
     "iopub.status.idle": "2025-03-19T09:49:30.846743Z",
     "shell.execute_reply": "2025-03-19T09:49:30.845778Z"
    },
    "papermill": {
     "duration": 5.485861,
     "end_time": "2025-03-19T09:49:30.848145",
     "exception": false,
     "start_time": "2025-03-19T09:49:25.362284",
     "status": "completed"
    },
    "tags": []
   },
   "outputs": [
    {
     "name": "stdout",
     "output_type": "stream",
     "text": [
      "\u001b[1m12/12\u001b[0m \u001b[32m━━━━━━━━━━━━━━━━━━━━\u001b[0m\u001b[37m\u001b[0m \u001b[1m1s\u001b[0m 37ms/step\n",
      "Confusion Matrix:\n",
      " [[148  39]\n",
      " [ 62 126]]\n",
      "\n",
      "Classification Report:\n",
      "               precision    recall  f1-score   support\n",
      "\n",
      "      Normal       0.70      0.79      0.75       187\n",
      "       Tumor       0.76      0.67      0.71       188\n",
      "\n",
      "    accuracy                           0.73       375\n",
      "   macro avg       0.73      0.73      0.73       375\n",
      "weighted avg       0.73      0.73      0.73       375\n",
      "\n"
     ]
    }
   ],
   "source": [
    "# Tải dữ liệu từ thư mục validation\n",
    "x_valid, y_true = load_data(valid_images_dir, valid_annotations_dir)\n",
    "y_pred = np.argmax(model.predict(x_valid), axis=1)\n",
    "\n",
    "# Dự đoán nhãn\n",
    "if len(y_true.shape) > 1 and y_true.shape[1] > 1:\n",
    "    y_true = np.argmax(y_true, axis=1)\n",
    "\n",
    "# Tính toán Confusion Matrix\n",
    "cm = confusion_matrix(y_true, y_pred)\n",
    "print(\"Confusion Matrix:\\n\", cm)\n",
    "\n",
    "# Classification Report (F1-score, Precision, Recall)\n",
    "print(\"\\nClassification Report:\\n\", classification_report(y_true, y_pred, target_names=[\"Normal\", \"Tumor\"]))\n",
    "\n",
    "\n",
    "# Macro avg: Đánh giá xem mô hình có hoạt động tốt trên tất cả các lớp, kể cả lớp nhỏ hay không\n",
    "# Weighted avg: Đánh giá hiệu suất tổng thể của mô hình dựa trên dataset thực tế"
   ]
  },
  {
   "cell_type": "code",
   "execution_count": 14,
   "id": "00d5df3c",
   "metadata": {
    "execution": {
     "iopub.execute_input": "2025-03-19T09:49:31.067659Z",
     "iopub.status.busy": "2025-03-19T09:49:31.067297Z",
     "iopub.status.idle": "2025-03-19T09:49:31.488320Z",
     "shell.execute_reply": "2025-03-19T09:49:31.487531Z"
    },
    "papermill": {
     "duration": 0.553074,
     "end_time": "2025-03-19T09:49:31.489985",
     "exception": false,
     "start_time": "2025-03-19T09:49:30.936911",
     "status": "completed"
    },
    "tags": []
   },
   "outputs": [
    {
     "data": {
      "image/png": "[encoded data removed]",
      "text/plain": [
       "<Figure size 1200x500 with 2 Axes>"
      ]
     },
     "metadata": {},
     "output_type": "display_data"
    }
   ],
   "source": [
    "# Vẽ biểu đồ Loss & Accuracy\n",
    "plt.figure(figsize=(12, 5))\n",
    "\n",
    "plt.subplot(1, 2, 1)\n",
    "plt.plot(history.history['loss'], label='Train Loss')\n",
    "plt.plot(history.history['val_loss'], label='Validation Loss')\n",
    "plt.xlabel('Epochs')\n",
    "plt.ylabel('Loss')\n",
    "plt.legend()\n",
    "plt.title('Loss Over Epochs')\n",
    "\n",
    "plt.subplot(1, 2, 2)\n",
    "plt.plot(history.history['accuracy'], label='Train Accuracy')\n",
    "plt.plot(history.history['val_accuracy'], label='Validation Accuracy')\n",
    "plt.xlabel('Epochs')\n",
    "plt.ylabel('Accuracy')\n",
    "plt.legend()\n",
    "plt.title('Accuracy Over Epochs')\n",
    "\n",
    "plt.show()"
   ]
  },
  {
   "cell_type": "code",
   "execution_count": 15,
   "id": "c61c0c7b",
   "metadata": {
    "execution": {
     "iopub.execute_input": "2025-03-19T09:49:31.671849Z",
     "iopub.status.busy": "2025-03-19T09:49:31.671580Z",
     "iopub.status.idle": "2025-03-19T09:49:51.928241Z",
     "shell.execute_reply": "2025-03-19T09:49:51.927272Z"
    },
    "papermill": {
     "duration": 20.34813,
     "end_time": "2025-03-19T09:49:51.929878",
     "exception": false,
     "start_time": "2025-03-19T09:49:31.581748",
     "status": "completed"
    },
    "tags": []
   },
   "outputs": [
    {
     "name": "stdout",
     "output_type": "stream",
     "text": [
      "\u001b[1m24/24\u001b[0m \u001b[32m━━━━━━━━━━━━━━━━━━━━\u001b[0m\u001b[37m\u001b[0m \u001b[1m2s\u001b[0m 67ms/step - accuracy: 0.7554 - loss: 0.5196\n",
      "Test accuracy: 0.7530, Test loss: 0.5340\n"
     ]
    }
   ],
   "source": [
    "# Đánh giá trên tập test\n",
    "test_images_dir = os.path.join(data_dir, \"test\", \"images\")\n",
    "test_annotations_dir = os.path.join(data_dir, \"test\", \"Annotations\")\n",
    "x_test, y_test = load_data(test_images_dir, test_annotations_dir)\n",
    "test_loss, test_acc = model.evaluate(x_test, y_test)\n",
    "print(f'Test accuracy: {test_acc:.4f}, Test loss: {test_loss:.4f}')\n"
   ]
  },
  {
   "cell_type": "markdown",
   "id": "af2dbfb2",
   "metadata": {
    "papermill": {
     "duration": 0.088966,
     "end_time": "2025-03-19T09:49:52.110231",
     "exception": false,
     "start_time": "2025-03-19T09:49:52.021265",
     "status": "completed"
    },
    "tags": []
   },
   "source": [
    "khúc này trở xuống chưa chạy đc"
   ]
  },
  {
   "cell_type": "code",
   "execution_count": 16,
   "id": "576915b4",
   "metadata": {
    "execution": {
     "iopub.execute_input": "2025-03-19T09:49:52.290107Z",
     "iopub.status.busy": "2025-03-19T09:49:52.289804Z",
     "iopub.status.idle": "2025-03-19T09:49:52.960135Z",
     "shell.execute_reply": "2025-03-19T09:49:52.959367Z"
    },
    "papermill": {
     "duration": 0.763243,
     "end_time": "2025-03-19T09:49:52.961551",
     "exception": false,
     "start_time": "2025-03-19T09:49:52.198308",
     "status": "completed"
    },
    "tags": []
   },
   "outputs": [
    {
     "name": "stdout",
     "output_type": "stream",
     "text": [
      "\u001b[1m1/1\u001b[0m \u001b[32m━━━━━━━━━━━━━━━━━━━━\u001b[0m\u001b[37m\u001b[0m \u001b[1m1s\u001b[0m 611ms/step\n",
      "Ảnh này không có khối u / ung thư.\n"
     ]
    },
    {
     "data": {
      "text/plain": [
       "array([[0.7716847 , 0.22831532]], dtype=float32)"
      ]
     },
     "execution_count": 16,
     "metadata": {},
     "output_type": "execute_result"
    }
   ],
   "source": [
    "# kiểm tra một ảnh đơn lẻ\n",
    "# này đang lỗi (chưa nhận diện được khối u)\n",
    "\n",
    "def predict_single_image(image_path, model):\n",
    "    # Đọc và xử lý ảnh giống như trong load_data\n",
    "    img = cv2.imread(image_path, cv2.IMREAD_GRAYSCALE)\n",
    "    img = cv2.resize(img, (img_h, img_w))\n",
    "    img = np.array(img, dtype=np.float32) / 255.0\n",
    "    img = np.expand_dims(img, axis=-1)  # Thêm chiều kênh\n",
    "    img = np.expand_dims(img, axis=0)  # Thêm batch dimension (1, img_h, img_w, 1)\n",
    "    \n",
    "    # Dự đoán\n",
    "    prediction = model.predict(img)\n",
    "    \n",
    "    # Kết quả\n",
    "    class_idx = np.argmax(prediction)  # Chọn lớp có xác suất cao nhất\n",
    "    if class_idx == 1:\n",
    "        print(\"Ảnh này có khả năng chứa khối u / ung thư.\")\n",
    "    else:\n",
    "        print(\"Ảnh này không có khối u / ung thư.\")\n",
    "    \n",
    "    return prediction\n",
    "\n",
    "# Chạy thử một ảnh\n",
    "test_image_path = '/kaggle/input/btxrd-v2/test/images/IMG000005.jpeg'\n",
    "predict_single_image(test_image_path, model)\n"
   ]
  }
 ],
 "metadata": {
  "kaggle": {
   "accelerator": "nvidiaTeslaT4",
   "dataSources": [
    {
     "datasetId": 6711261,
     "sourceId": 10999905,
     "sourceType": "datasetVersion"
    },
    {
     "datasetId": 6851289,
     "sourceId": 11005439,
     "sourceType": "datasetVersion"
    }
   ],
   "dockerImageVersionId": 30918,
   "isGpuEnabled": true,
   "isInternetEnabled": true,
   "language": "python",
   "sourceType": "notebook"
  },
  "kernelspec": {
   "display_name": "Python 3",
   "language": "python",
   "name": "python3"
  },
  "language_info": {
   "codemirror_mode": {
    "name": "ipython",
    "version": 3
   },
   "file_extension": ".py",
   "mimetype": "text/x-python",
   "name": "python",
   "nbconvert_exporter": "python",
   "pygments_lexer": "ipython3",
   "version": "3.10.12"
  },
  "papermill": {
   "default_parameters": {},
   "duration": 396.92963,
   "end_time": "2025-03-19T09:49:55.401076",
   "environment_variables": {},
   "exception": null,
   "input_path": "__notebook__.ipynb",
   "output_path": "__notebook__.ipynb",
   "parameters": {},
   "start_time": "2025-03-19T09:43:18.471446",
   "version": "2.6.0"
  }
 },
 "nbformat": 4,
 "nbformat_minor": 5
}
